{
 "cells": [
  {
   "cell_type": "code",
   "execution_count": 1,
   "id": "948ab369",
   "metadata": {
    "scrolled": true
   },
   "outputs": [
    {
     "name": "stdout",
     "output_type": "stream",
     "text": [
      "\n"
     ]
    }
   ],
   "source": [
    "clear all"
   ]
  },
  {
   "cell_type": "markdown",
   "id": "19e886a6",
   "metadata": {},
   "source": [
    "**Example 1:** Check if the function\n",
    "$$\n",
    "  f(x,y,z) = x^2 + y^2 + z^2\n",
    "$$\n",
    "is a symmetric function"
   ]
  },
  {
   "cell_type": "code",
   "execution_count": 2,
   "id": "07b63d94",
   "metadata": {},
   "outputs": [
    {
     "name": "stdout",
     "output_type": "stream",
     "text": [
      "Test f\n",
      "\n",
      "result =\n",
      "\n",
      "  logical\n",
      "\n",
      "   1\n",
      "\n",
      "\n"
     ]
    }
   ],
   "source": [
    "syms x y z\n",
    "f = x^2 + y^2 + z^2;\n",
    "disp('Test f');\n",
    "result = issym(f)"
   ]
  },
  {
   "cell_type": "markdown",
   "id": "d5ec2a68",
   "metadata": {},
   "source": [
    "**Example 2:** Check if the function\n",
    "$$\n",
    "  g(x,y,z) = \\frac{x}{y^2 + z^2} + \\frac{y}{x^2 + z^2} + \\frac{z}{x^2 + y^2}\n",
    "$$\n",
    "is a symmetric function"
   ]
  },
  {
   "cell_type": "code",
   "execution_count": 3,
   "id": "c988371e",
   "metadata": {},
   "outputs": [
    {
     "name": "stdout",
     "output_type": "stream",
     "text": [
      "Test g\n",
      "\n",
      "result =\n",
      "\n",
      "  logical\n",
      "\n",
      "   1\n",
      "\n",
      "\n"
     ]
    }
   ],
   "source": [
    "g = x/(y^2+z^2) + y/(x^2+z^2) + z/(x^2+y^2);\n",
    "disp('Test g');\n",
    "result = issym(g)"
   ]
  },
  {
   "cell_type": "markdown",
   "id": "89da0f9c",
   "metadata": {},
   "source": [
    "**Example 3:** Check if the function\n",
    "$$\n",
    "  h(r,s,t,u) = stu + rtu + rsu + 2rst\n",
    "$$\n",
    "is a symmetric function"
   ]
  },
  {
   "cell_type": "code",
   "execution_count": 4,
   "id": "0e0357a4",
   "metadata": {
    "scrolled": true
   },
   "outputs": [
    {
     "name": "stdout",
     "output_type": "stream",
     "text": [
      "Test h\n",
      "\n",
      "result =\n",
      "\n",
      "  logical\n",
      "\n",
      "   0\n",
      "\n",
      "\n"
     ]
    }
   ],
   "source": [
    "syms r s t u\n",
    "h = s*t*u+r*t*u+r*s*u+2*r*s*t;\n",
    "disp('Test h');\n",
    "result = issym(h)"
   ]
  },
  {
   "cell_type": "markdown",
   "id": "973113eb",
   "metadata": {},
   "source": [
    "**Example 4:** Check if the function\n",
    "$$\n",
    "  k(r,s,t,u) = \\frac{r}{s} + \\frac{r}{t} + \\frac{r}{u} + \\frac{s}{t} + \\frac{s}{u}\n",
    "$$\n",
    "is a symmetric function"
   ]
  },
  {
   "cell_type": "code",
   "execution_count": 5,
   "id": "47d68d92",
   "metadata": {},
   "outputs": [
    {
     "name": "stdout",
     "output_type": "stream",
     "text": [
      "Test k\n",
      "\n",
      "result =\n",
      "\n",
      "  logical\n",
      "\n",
      "   0\n",
      "\n",
      "\n"
     ]
    }
   ],
   "source": [
    "k = r/s+r/t+r/u+s/t+s/u;\n",
    "disp('Test k');\n",
    "result = issym(k)"
   ]
  },
  {
   "cell_type": "markdown",
   "id": "04472860",
   "metadata": {},
   "source": [
    "**Example 5:** Check if the function\n",
    "$$\n",
    "  p(r,s,t,u) = r(s+t+u) + s(r+t+u) + t(r+s+u) + u(r+s+t)\n",
    "$$\n",
    "is a symmetric function"
   ]
  },
  {
   "cell_type": "code",
   "execution_count": 6,
   "id": "2bbf331a",
   "metadata": {},
   "outputs": [
    {
     "name": "stdout",
     "output_type": "stream",
     "text": [
      "Test p\n",
      "\n",
      "result =\n",
      "\n",
      "  logical\n",
      "\n",
      "   1\n",
      "\n",
      "\n"
     ]
    }
   ],
   "source": [
    "p = (s+t+u)*r+(r+t+u)*s+(r+s+u)*t+(r+s+t)*u;\n",
    "disp('Test p');\n",
    "result = issym(p)"
   ]
  },
  {
   "cell_type": "markdown",
   "id": "f6df7e43",
   "metadata": {},
   "source": [
    "**Example 6:** Check if the function\n",
    "$$\n",
    "  m(a,b,c) = (a + bw + cw^2)^3 + (b + aw + cw^2)^3\n",
    "$$\n",
    "is a symmetric function\n",
    "where\n",
    "$$\n",
    "  w = \\frac{-1+\\sqrt{3}i}{2}\n",
    "$$"
   ]
  },
  {
   "cell_type": "code",
   "execution_count": 7,
   "id": "98151946",
   "metadata": {},
   "outputs": [
    {
     "name": "stdout",
     "output_type": "stream",
     "text": [
      "Test m\n",
      "\n",
      "result =\n",
      "\n",
      "  logical\n",
      "\n",
      "   1\n",
      "\n",
      "\n"
     ]
    }
   ],
   "source": [
    "syms a b c\n",
    "w = (-1+sqrt(sym(-3)))/sym(2); \n",
    "m = (a+w*b+w^2*c)^3+(b+w*a+w^2*c)^3;\n",
    "disp('Test m');\n",
    "result = issym(m)"
   ]
  }
 ],
 "metadata": {
  "kernelspec": {
   "display_name": "Matlab",
   "language": "matlab",
   "name": "matlab"
  },
  "language_info": {
   "codemirror_mode": "octave",
   "file_extension": ".m",
   "help_links": [
    {
     "text": "MetaKernel Magics",
     "url": "https://metakernel.readthedocs.io/en/latest/source/README.html"
    }
   ],
   "mimetype": "text/x-octave",
   "name": "matlab",
   "version": "0.17.1"
  }
 },
 "nbformat": 4,
 "nbformat_minor": 5
}
